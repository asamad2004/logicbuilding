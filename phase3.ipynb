{
 "cells": [
  {
   "cell_type": "raw",
   "id": "31bac6bb-7ace-4574-a020-8cd6732f25cc",
   "metadata": {},
   "source": [
    "Task_7\n",
    "      >Conditional Statements (if, elif, else) in Python\n",
    "\n",
    "       Objective:\n",
    "       Control program flow based on conditions using if, elif, and else.\n",
    "\n",
    "        Example:\n",
    "        if condition:\n",
    "            # Execute this block if condition is True\n",
    "        elif another_condition:\n",
    "            # Execute if previous condition was False, but this one is True\n",
    "        else:\n",
    "            # Execute if all above conditions are False\n",
    "\n",
    "        Best Practices:\n",
    "         Keep conditions clear and structured.\n",
    "         Use elif instead of multiple if statements to improve efficiency.\n",
    "         Use f-strings for clean output formatting."
   ]
  }
 ],
 "metadata": {
  "kernelspec": {
   "display_name": "Python [conda env:base] *",
   "language": "python",
   "name": "conda-base-py"
  },
  "language_info": {
   "codemirror_mode": {
    "name": "ipython",
    "version": 3
   },
   "file_extension": ".py",
   "mimetype": "text/x-python",
   "name": "python",
   "nbconvert_exporter": "python",
   "pygments_lexer": "ipython3",
   "version": "3.12.7"
  }
 },
 "nbformat": 4,
 "nbformat_minor": 5
}
