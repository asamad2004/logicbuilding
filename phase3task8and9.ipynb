{
 "cells": [
  {
   "cell_type": "raw",
   "id": "e4aa27fd-fb8b-40a6-bf9a-c9f2864241e7",
   "metadata": {},
   "source": [
    "Task_8\n",
    "      >For Loop in Python\n",
    "        Objective:\n",
    "        A for loop is used to iterate over a sequence (list, tuple, string, dictionary, etc.).\n",
    "\n",
    "        Example:- for variable in sequence:\n",
    "                  for topic in learning_topics:\n",
    "                  # Code to execute in loop\n",
    "                  \n",
    "      > Using range() in a For Loop   \n",
    "\n",
    "        for i in range(1, 6):\n",
    "        print(f\"Attempt {i}\")\n",
    "\n",
    "      > Best Practices:\n",
    "\n",
    "        Use enumerate() if you need index values.\n",
    "        Use .items() for iterating key-value pairs in dictionaries.\n",
    "        Avoid modifying lists while looping to prevent errors.\n",
    "\n",
    "Task_9\n",
    "      > While Loop in Python\n",
    "        Objective:\n",
    "        A while loop runs as long as a specified condition remains True.\n",
    "\n",
    "        Example:- while condition:\n",
    "                  # Code that runs in loop\n",
    "\n",
    "      > Best Practices:\n",
    "\n",
    "        Ensure loops have an exit condition to prevent infinite loops.\n",
    "        Use .lower() to make input case-insensitive.\n",
    "        Use break to stop the loop when needed."
   ]
  },
  {
   "cell_type": "code",
   "execution_count": null,
   "id": "76298077-1b3b-484e-ac2c-898e9b7d7b28",
   "metadata": {},
   "outputs": [],
   "source": []
  }
 ],
 "metadata": {
  "kernelspec": {
   "display_name": "Python [conda env:base] *",
   "language": "python",
   "name": "conda-base-py"
  },
  "language_info": {
   "codemirror_mode": {
    "name": "ipython",
    "version": 3
   },
   "file_extension": ".py",
   "mimetype": "text/x-python",
   "name": "python",
   "nbconvert_exporter": "python",
   "pygments_lexer": "ipython3",
   "version": "3.12.7"
  }
 },
 "nbformat": 4,
 "nbformat_minor": 5
}
